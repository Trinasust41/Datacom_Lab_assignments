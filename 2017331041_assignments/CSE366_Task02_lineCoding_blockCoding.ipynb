{
  "nbformat": 4,
  "nbformat_minor": 0,
  "metadata": {
    "colab": {
      "name": "CSE366_Task02_LineCoding_BlockCoding.ipynb",
      "provenance": []
    },
    "kernelspec": {
      "name": "python3",
      "display_name": "Python 3"
    },
    "language_info": {
      "name": "python"
    }
  },
  "cells": [
    {
      "cell_type": "markdown",
      "metadata": {
        "id": "9tLFGa4pJaj3"
      },
      "source": [
        "#Trina Chakraborty\n",
        "2017331041"
      ]
    },
    {
      "cell_type": "code",
      "metadata": {
        "id": "kZgETKK8KwuA"
      },
      "source": [
        "import numpy as np\n",
        "import matplotlib.pyplot as plt\n",
        "import math"
      ],
      "execution_count": 18,
      "outputs": []
    },
    {
      "cell_type": "markdown",
      "metadata": {
        "id": "bIU9vkEeL76e"
      },
      "source": [
        "#Main Signal"
      ]
    },
    {
      "cell_type": "code",
      "metadata": {
        "id": "OtX0JEkSLhMu"
      },
      "source": [
        "signal=[0,1,0,1,0,1,1,0,1,1]\n",
        "axis= np.arange(0,10,1)\n"
      ],
      "execution_count": 19,
      "outputs": []
    },
    {
      "cell_type": "markdown",
      "metadata": {
        "id": "nGCqs_CaI3RR"
      },
      "source": [
        "#Line Coding"
      ]
    },
    {
      "cell_type": "code",
      "metadata": {
        "colab": {
          "base_uri": "https://localhost:8080/",
          "height": 395
        },
        "id": "bQldGAMbMD_n",
        "outputId": "dd1cf0f0-bcff-4a9b-eae3-5e77d2a8af8e"
      },
      "source": [
        "fig, ax = plt.subplots(nrows=1, ncols=1, figsize=(8,6))\n",
        "plt.step(axis,signal)\n",
        "plt.title('Main Signal', fontsize = 20)\n",
        "plt.axhline(y=0,color='black',linestyle='-')\n",
        "plt.show()"
      ],
      "execution_count": 20,
      "outputs": [
        {
          "output_type": "display_data",
          "data": {
            "image/png": "[encoded data removed]",
            "text/plain": [
              "<Figure size 576x432 with 1 Axes>"
            ]
          },
          "metadata": {
            "needs_background": "light"
          }
        }
      ]
    },
    {
      "cell_type": "markdown",
      "metadata": {
        "id": "x84cSxsrO9am"
      },
      "source": [
        "#unipolar nrz"
      ]
    },
    {
      "cell_type": "code",
      "metadata": {
        "colab": {
          "base_uri": "https://localhost:8080/",
          "height": 409
        },
        "id": "9oAWNWahO-gw",
        "outputId": "3bfa0de8-b38d-4bbe-c4bb-e84fbb6a6e3c"
      },
      "source": [
        "fig, ax = plt.subplots(nrows=1, ncols=1, figsize=(8, 6))\n",
        "\n",
        "unipolar_nrz=[i*5 for i in signal]\n",
        "\n",
        "plt.step(axis,unipolar_nrz,where='pre')\n",
        "plt.title('Unipolar NRZ',fontsize=15)\n",
        "plt.axhline(y=0,color='black',linestyle='-')\n"
      ],
      "execution_count": 21,
      "outputs": [
        {
          "output_type": "execute_result",
          "data": {
            "text/plain": [
              "<matplotlib.lines.Line2D at 0x7f36326f1410>"
            ]
          },
          "metadata": {},
          "execution_count": 21
        },
        {
          "output_type": "display_data",
          "data": {
            "image/png": "[encoded data removed]",
            "text/plain": [
              "<Figure size 576x432 with 1 Axes>"
            ]
          },
          "metadata": {
            "needs_background": "light"
          }
        }
      ]
    },
    {
      "cell_type": "markdown",
      "metadata": {
        "id": "TWjuYKhQgp7W"
      },
      "source": [
        "#Decoding"
      ]
    },
    {
      "cell_type": "code",
      "metadata": {
        "colab": {
          "base_uri": "https://localhost:8080/"
        },
        "id": "frrNMNLrZBqZ",
        "outputId": "e4ce6549-39b1-4a18-81a3-33cb1c002728"
      },
      "source": [
        "result = []\n",
        "counter = 0\n",
        "Time = 10e-12 \n",
        "bit_rate = 1/Time  \n",
        "for i in range(len(axis)):\n",
        "  if axis[i]*bit_rate >= counter:\n",
        "    counter = counter + 1\n",
        "    result.append(int(signal[i]))\n",
        "\n",
        "print(result)"
      ],
      "execution_count": 22,
      "outputs": [
        {
          "output_type": "stream",
          "name": "stdout",
          "text": [
            "[0, 1, 0, 1, 0, 1, 1, 0, 1, 1]\n"
          ]
        }
      ]
    },
    {
      "cell_type": "markdown",
      "metadata": {
        "id": "Ni5DX0foQow7"
      },
      "source": [
        "# Polar NRZ-L"
      ]
    },
    {
      "cell_type": "code",
      "metadata": {
        "id": "SXyej1rmQ3i9",
        "colab": {
          "base_uri": "https://localhost:8080/",
          "height": 409
        },
        "outputId": "24bb6b1a-af4b-426f-ff2c-74766263e47e"
      },
      "source": [
        "fig, ax = plt.subplots(nrows=1, ncols=1, figsize=(8, 6))\n",
        "nrzl_signal = [((-1)**i)*5 for i in signal]\n",
        "print(nrzl_signal)\n",
        "plt.step(axis, nrzl_signal , where = 'pre')\n",
        "plt.axhline(y=0.0, color='r', linestyle='-')\n",
        "plt.title('Polar NRZ-L scheme', fontsize = 15)\n",
        "plt.show()"
      ],
      "execution_count": 23,
      "outputs": [
        {
          "output_type": "stream",
          "name": "stdout",
          "text": [
            "[5, -5, 5, -5, 5, -5, -5, 5, -5, -5]\n"
          ]
        },
        {
          "output_type": "display_data",
          "data": {
            "image/png": "[encoded data removed]",
            "text/plain": [
              "<Figure size 576x432 with 1 Axes>"
            ]
          },
          "metadata": {
            "needs_background": "light"
          }
        }
      ]
    },
    {
      "cell_type": "markdown",
      "metadata": {
        "id": "gPLFb3BGJqO3"
      },
      "source": [
        "#Decoding"
      ]
    },
    {
      "cell_type": "code",
      "metadata": {
        "colab": {
          "base_uri": "https://localhost:8080/"
        },
        "id": "QXX1ikkMkdf4",
        "outputId": "24f751a2-c08a-41ff-b8fa-85c2c2fc331c"
      },
      "source": [
        "result = []\n",
        "counter = 0\n",
        "last_bit = 0\n",
        "for i in range(len(axis)):\n",
        "  if axis[i]*bit_rate >= counter:\n",
        "    counter = counter + 1\n",
        "    if nrzl_signal[i]<0:\n",
        "      result.append(1)\n",
        "      \n",
        "    else:\n",
        "      result.append(0)\n",
        "\n",
        "print(result)"
      ],
      "execution_count": 24,
      "outputs": [
        {
          "output_type": "stream",
          "name": "stdout",
          "text": [
            "[0, 1, 0, 1, 0, 1, 1, 0, 1, 1]\n"
          ]
        }
      ]
    },
    {
      "cell_type": "markdown",
      "metadata": {
        "id": "0Ct0CsWQhtsA"
      },
      "source": [
        "#NRZ-I"
      ]
    },
    {
      "cell_type": "code",
      "metadata": {
        "colab": {
          "base_uri": "https://localhost:8080/",
          "height": 409
        },
        "id": "Roa6Yx9Phwsw",
        "outputId": "bc54b3b1-e4ef-44f7-c8dd-e5655ec232f3"
      },
      "source": [
        "fig, ax = plt.subplots(nrows=1, ncols=1, figsize=(8, 6))\n",
        "nrz_i=[]\n",
        "prev_cnt=5\n",
        "for i in range(0,10):\n",
        "  if (signal[i]==0):\n",
        "    nrz_i.append(prev_cnt)\n",
        "  else:\n",
        "    nrz_i.append(prev_cnt*(-1))\n",
        "    prev_cnt=prev_cnt*(-1)\n",
        "print(nrz_i)\n",
        "plt.step(axis, nrz_i , where = 'pre')\n",
        "plt.axhline(y=0.0, color='r', linestyle='-')\n",
        "plt.title('Polar NRZ I scheme', fontsize = 15)\n",
        "plt.show()"
      ],
      "execution_count": 25,
      "outputs": [
        {
          "output_type": "stream",
          "name": "stdout",
          "text": [
            "[5, -5, -5, 5, 5, -5, 5, 5, -5, 5]\n"
          ]
        },
        {
          "output_type": "display_data",
          "data": {
            "image/png": "[encoded data removed]",
            "text/plain": [
              "<Figure size 576x432 with 1 Axes>"
            ]
          },
          "metadata": {
            "needs_background": "light"
          }
        }
      ]
    },
    {
      "cell_type": "markdown",
      "metadata": {
        "id": "xducUdgoJuey"
      },
      "source": [
        "#Decoding"
      ]
    },
    {
      "cell_type": "code",
      "metadata": {
        "colab": {
          "base_uri": "https://localhost:8080/"
        },
        "id": "mIIDv4Ycjz1K",
        "outputId": "d47ea3de-3f3f-4c1a-e695-2489a0aee23d"
      },
      "source": [
        "result = []\n",
        "counter = 0\n",
        "last_bit = 0\n",
        "for i in range(len(axis)):\n",
        "  if axis[i]*bit_rate >= counter:\n",
        "    counter = counter + 1\n",
        "    if signal[i] != last_bit:\n",
        "      result.append(1)\n",
        "      last_bit=-last_bit\n",
        "    else:\n",
        "      result.append(0)\n",
        "\n",
        "print(result)"
      ],
      "execution_count": 26,
      "outputs": [
        {
          "output_type": "stream",
          "name": "stdout",
          "text": [
            "[0, 1, 0, 1, 0, 1, 1, 0, 1, 1]\n"
          ]
        }
      ]
    },
    {
      "cell_type": "markdown",
      "metadata": {
        "id": "TzaQNZX8r1qf"
      },
      "source": [
        "#Bipolar-AMI"
      ]
    },
    {
      "cell_type": "code",
      "metadata": {
        "colab": {
          "base_uri": "https://localhost:8080/",
          "height": 409
        },
        "id": "LB_ENogQr4Si",
        "outputId": "3aa9e16e-643b-4825-9c0f-f03847b351d1"
      },
      "source": [
        "fig, ax = plt.subplots(nrows=1, ncols=1, figsize=(8, 6))\n",
        "prev_cnt=-5;\n",
        "ami_signal=[]\n",
        "for i in signal:\n",
        "  if signal[i]==0:\n",
        "    ami_signal.append(0)\n",
        "  else:\n",
        "    prev_cnt=prev_cnt*(-1)\n",
        "    ami_signal.append(prev_cnt)\n",
        "print(ami_signal)\n",
        "plt.step(axis, ami_signal , where = 'pre')\n",
        "plt.axhline(y=0.0, color='r', linestyle='-')\n",
        "plt.title('Bipolar AMI scheme', fontsize = 15)\n",
        "plt.show()    \n"
      ],
      "execution_count": 27,
      "outputs": [
        {
          "output_type": "stream",
          "name": "stdout",
          "text": [
            "[0, 5, 0, -5, 0, 5, -5, 0, 5, -5]\n"
          ]
        },
        {
          "output_type": "display_data",
          "data": {
            "image/png": "[encoded data removed]",
            "text/plain": [
              "<Figure size 576x432 with 1 Axes>"
            ]
          },
          "metadata": {
            "needs_background": "light"
          }
        }
      ]
    },
    {
      "cell_type": "markdown",
      "metadata": {
        "id": "Z0zEscLmJws6"
      },
      "source": [
        "#Decoding"
      ]
    },
    {
      "cell_type": "code",
      "metadata": {
        "colab": {
          "base_uri": "https://localhost:8080/"
        },
        "id": "j4TJQdIrtGoF",
        "outputId": "11e57c7e-1e30-41e6-9e10-b541412ad25a"
      },
      "source": [
        "result = []\n",
        "counter = 0\n",
        "#last_bit = 0\n",
        "for i in range(len(axis)):\n",
        "  if axis[i]*bit_rate >= counter:\n",
        "    counter = counter + 1\n",
        "    if ami_signal[i] == 0:\n",
        "      result.append(0)\n",
        "      #last_bit=-last_bit\n",
        "    else:\n",
        "      result.append(1)\n",
        "\n",
        "print(result)"
      ],
      "execution_count": 28,
      "outputs": [
        {
          "output_type": "stream",
          "name": "stdout",
          "text": [
            "[0, 1, 0, 1, 0, 1, 1, 0, 1, 1]\n"
          ]
        }
      ]
    },
    {
      "cell_type": "markdown",
      "metadata": {
        "id": "rjqacJFXtetC"
      },
      "source": [
        "#Bipolar Pseudoternary"
      ]
    },
    {
      "cell_type": "code",
      "metadata": {
        "colab": {
          "base_uri": "https://localhost:8080/",
          "height": 409
        },
        "id": "PcT3xXRvtlS_",
        "outputId": "d117138e-cfdd-4f3f-e3d8-6bc70540092e"
      },
      "source": [
        "fig, ax = plt.subplots(nrows=1, ncols=1, figsize=(8, 6))\n",
        "prev_cnt=-5;\n",
        "pseudo_signal=[]\n",
        "for i in signal:\n",
        "  if signal[i]==1:\n",
        "    pseudo_signal.append(0)\n",
        "  else:\n",
        "    prev_cnt=prev_cnt*(-1)\n",
        "    pseudo_signal.append(prev_cnt)\n",
        "print(pseudo_signal)\n",
        "plt.step(axis, pseudo_signal , where = 'pre')\n",
        "plt.axhline(y=0.0, color='r', linestyle='-')\n",
        "plt.title('Bipolar Pseudoternary', fontsize = 15)\n",
        "plt.show()"
      ],
      "execution_count": 29,
      "outputs": [
        {
          "output_type": "stream",
          "name": "stdout",
          "text": [
            "[5, 0, -5, 0, 5, 0, 0, -5, 0, 0]\n"
          ]
        },
        {
          "output_type": "display_data",
          "data": {
            "image/png": "[encoded data removed]",
            "text/plain": [
              "<Figure size 576x432 with 1 Axes>"
            ]
          },
          "metadata": {
            "needs_background": "light"
          }
        }
      ]
    },
    {
      "cell_type": "markdown",
      "metadata": {
        "id": "XKLAtbqEJz0U"
      },
      "source": [
        "#Decoding"
      ]
    },
    {
      "cell_type": "code",
      "metadata": {
        "colab": {
          "base_uri": "https://localhost:8080/"
        },
        "id": "xsfsExzEuVKx",
        "outputId": "90ffa44b-d76e-48d0-befc-f80c486a3d32"
      },
      "source": [
        "result = []\n",
        "counter = 0\n",
        "#last_bit = 0\n",
        "for i in range(len(axis)):\n",
        "  if axis[i]*bit_rate >= counter:\n",
        "    counter = counter + 1\n",
        "    if pseudo_signal[i] == 0:\n",
        "      result.append(1)\n",
        "      #last_bit=-last_bit\n",
        "    else:\n",
        "      result.append(0)\n",
        "\n",
        "print(result)"
      ],
      "execution_count": 30,
      "outputs": [
        {
          "output_type": "stream",
          "name": "stdout",
          "text": [
            "[0, 1, 0, 1, 0, 1, 1, 0, 1, 1]\n"
          ]
        }
      ]
    },
    {
      "cell_type": "markdown",
      "metadata": {
        "id": "GDaDEG6A6SKf"
      },
      "source": [
        "#Block Coding - 4B/5B"
      ]
    },
    {
      "cell_type": "code",
      "metadata": {
        "id": "aG5iuCXg6Vee"
      },
      "source": [
        "encoding_code={\n",
        "\"0000\": \"11110\",\n",
        "\"0001\": \"01001\",\n",
        "\"0010\": \"10100\",\n",
        "\"0011\": \"10101\",\n",
        "\"0100\": \"01010\",\n",
        "\"0101\": \"01011\",\n",
        "\"0110\": \"01110\",\n",
        "\"0111\": \"01111\",\n",
        "\"1000\": \"10010\",\n",
        "\"1001\": \"10011\",\n",
        "\"1010\": \"10110\",\n",
        "\"1011\": \"10111\",\n",
        "\"1100\": \"11010\",\n",
        "\"1101\": \"11011\",\n",
        "\"1110\": \"11100\",\n",
        "\"1111\": \"11101\",}\n",
        "\n",
        "decoding_code={\n",
        "\"11110\": \"0000\",\n",
        "\"01001\": \"0001\",\n",
        "\"10100\": \"0010\",\n",
        "\"10101\": \"0011\",\n",
        "\"01010\": \"0100\",\n",
        "\"01011\": \"0101\",\n",
        "\"01110\": \"0110\",\n",
        "\"01111\": \"0111\",\n",
        "\"10010\": \"1000\",\n",
        "\"10011\": \"1001\",\n",
        "\"10110\": \"1010\",\n",
        "\"10111\": \"1011\",\n",
        "\"11010\": \"1100\",\n",
        "\"11011\": \"1101\",\n",
        "\"11100\": \"1110\",\n",
        "\"11101\": \"1111\",\n",
        "    \n",
        "}\n",
        "def get_encoding_codes(bits):\n",
        "  return encoding_code[\"\".join(map(str, bits))]\n",
        "def get_decoding_codes(bits):\n",
        "  return decoding_code[\"\".join(map(str, bits))]  \n",
        "\n",
        "\n",
        "def function_a(bits):\n",
        "    if len(bits)%4!=0:\n",
        "      l=(((len(bits)// 4) + 1) * 4)-len(bits)\n",
        "      l1=np.array(np.zeros(l), dtype=int)\n",
        "      bits = np.append(bits, l1)\n",
        "\n",
        "    \n",
        "    str1=\"\"\n",
        "\n",
        "    for i in range(0, len(bits), 4):\n",
        "      str1 += get_encoding_codes(bits[i:i+4])\n",
        "        \n",
        "    str1_list = list(str1)\n",
        "    str1_map = map(int, str1_list)\n",
        "    encoded_bits = np.array(list(str1_map))\n",
        "    return encoded_bits   \n",
        "\n",
        "   \n",
        "\n",
        "  \n",
        "def function_b(bits):\n",
        "  if len(bits) % 5 != 0:\n",
        "    print(\"invalid\")\n",
        "    return\n",
        "  str2 = \"\"\n",
        "  for i in range(0, len(bits), 5):\n",
        "    str2 += get_decoding_codes(bits[i:i+5])\n",
        "  \n",
        "  str2_list = list(str2)\n",
        "  str2_map = map(int, str2_list)\n",
        "  decoded_bits = np.array(list(str2_map))\n",
        "  return decoded_bits\n",
        "\n"
      ],
      "execution_count": 31,
      "outputs": []
    },
    {
      "cell_type": "code",
      "metadata": {
        "colab": {
          "base_uri": "https://localhost:8080/"
        },
        "id": "EtXDHokmCNdd",
        "outputId": "55622588-10a7-4596-f659-135e103fdcc5"
      },
      "source": [
        "bits = np.array([0,1,0,1,0,1,1,0,1,1,1,1], dtype=int) \n",
        "bits = function_a(bits)\n",
        "bits"
      ],
      "execution_count": 32,
      "outputs": [
        {
          "output_type": "execute_result",
          "data": {
            "text/plain": [
              "array([0, 1, 0, 1, 1, 0, 1, 1, 1, 0, 1, 1, 1, 0, 1])"
            ]
          },
          "metadata": {},
          "execution_count": 32
        }
      ]
    },
    {
      "cell_type": "code",
      "metadata": {
        "colab": {
          "base_uri": "https://localhost:8080/",
          "height": 409
        },
        "id": "ifhw-jkrCmSg",
        "outputId": "22990a57-d619-4a1a-d807-0de58956414a"
      },
      "source": [
        "fig, ax = plt.subplots(nrows=1, ncols=1, figsize=(8, 6))\n",
        "nrz_i=[]\n",
        "prev_cnt=5\n",
        "for i in range(0,10):\n",
        "  if (bits[i]==0):\n",
        "    nrz_i.append(prev_cnt)\n",
        "  else:\n",
        "    nrz_i.append(prev_cnt*(-1))\n",
        "    prev_cnt=prev_cnt*(-1)\n",
        "print(nrz_i)\n",
        "plt.step(axis, nrz_i , where = 'pre')\n",
        "plt.axhline(y=0.0, color='r', linestyle='-')\n",
        "plt.title('Polar NRZ-I scheme', fontsize = 15)\n",
        "plt.show()"
      ],
      "execution_count": 33,
      "outputs": [
        {
          "output_type": "stream",
          "name": "stdout",
          "text": [
            "[5, -5, -5, 5, -5, -5, 5, -5, 5, 5]\n"
          ]
        },
        {
          "output_type": "display_data",
          "data": {
            "image/png": "[encoded data removed]",
            "text/plain": [
              "<Figure size 576x432 with 1 Axes>"
            ]
          },
          "metadata": {
            "needs_background": "light"
          }
        }
      ]
    },
    {
      "cell_type": "code",
      "metadata": {
        "colab": {
          "base_uri": "https://localhost:8080/"
        },
        "id": "M6G4f38cCmRi",
        "outputId": "c5569f52-f09e-4676-9adc-5446e3816a39"
      },
      "source": [
        "result = []\n",
        "counter = 0\n",
        "last_bit = 0\n",
        "for i in range(len(axis)):\n",
        "  if axis[i]*bit_rate >= counter:\n",
        "    counter = counter + 1\n",
        "    if bits[i] != last_bit:\n",
        "      result.append(1)\n",
        "      last_bit=-last_bit\n",
        "    else:\n",
        "      result.append(0)\n",
        "\n",
        "print(result)"
      ],
      "execution_count": 34,
      "outputs": [
        {
          "output_type": "stream",
          "name": "stdout",
          "text": [
            "[0, 1, 0, 1, 1, 0, 1, 1, 1, 0]\n"
          ]
        }
      ]
    },
    {
      "cell_type": "code",
      "metadata": {
        "colab": {
          "base_uri": "https://localhost:8080/"
        },
        "id": "b3VTGUZ8DOtX",
        "outputId": "9725a09f-98b2-40cf-d16c-6821d2ab0416"
      },
      "source": [
        "decoded_result = function_b(result)\n",
        "print(decoded_result)"
      ],
      "execution_count": 35,
      "outputs": [
        {
          "output_type": "stream",
          "name": "stdout",
          "text": [
            "[0 1 0 1 0 1 1 0]\n"
          ]
        }
      ]
    }
  ]
}